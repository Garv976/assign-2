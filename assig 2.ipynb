{
  "nbformat": 4,
  "nbformat_minor": 0,
  "metadata": {
    "colab": {
      "provenance": []
    },
    "kernelspec": {
      "name": "python3",
      "display_name": "Python 3"
    },
    "language_info": {
      "name": "python"
    }
  },
  "cells": [
    {
      "cell_type": "code",
      "execution_count": 2,
      "metadata": {
        "colab": {
          "base_uri": "https://localhost:8080/",
          "height": 36
        },
        "id": "5Yu-9s3Ty3Z1",
        "outputId": "cfd558c5-a0e1-482a-b439-cfa11ef6486c"
      },
      "outputs": [
        {
          "output_type": "execute_result",
          "data": {
            "text/plain": [
              "'pwski'"
            ],
            "application/vnd.google.colaboratory.intrinsic+json": {
              "type": "string"
            }
          },
          "metadata": {},
          "execution_count": 2
        }
      ],
      "source": [
        "# qn1-Discuss string slicing and provide examples\n",
        "#ans1- it allows you to extract a portion of a string by a start and end index\n",
        "a='pwskills'\n",
        "a[:-3]"
      ]
    },
    {
      "cell_type": "code",
      "source": [
        "a[::-1]"
      ],
      "metadata": {
        "colab": {
          "base_uri": "https://localhost:8080/",
          "height": 36
        },
        "id": "LoAeYCBfzUkh",
        "outputId": "b0d30274-efe6-42e1-a47f-04506df090d7"
      },
      "execution_count": 5,
      "outputs": [
        {
          "output_type": "execute_result",
          "data": {
            "text/plain": [
              "'sllikswp'"
            ],
            "application/vnd.google.colaboratory.intrinsic+json": {
              "type": "string"
            }
          },
          "metadata": {},
          "execution_count": 5
        }
      ]
    },
    {
      "cell_type": "code",
      "source": [
        "#qn2-Explain the key features of lists in Python\n",
        "# it is  a ordered collection of data\n",
        "#it is like a shopping bag as it can store anything\n",
        "#can store any data tyoe\n",
        "# mutable"
      ],
      "metadata": {
        "id": "w32qZFBpzfx7"
      },
      "execution_count": null,
      "outputs": []
    },
    {
      "cell_type": "code",
      "source": [
        "#qn3-Describe how to access, modify, and delete elements in a list with examples\n",
        "# to access a list\n",
        "a=['garv',1,2]\n",
        "a[0]"
      ],
      "metadata": {
        "colab": {
          "base_uri": "https://localhost:8080/",
          "height": 36
        },
        "id": "ggeu2I8Dz01T",
        "outputId": "81e1b602-4155-488a-dbdf-dcd090e9bb50"
      },
      "execution_count": 7,
      "outputs": [
        {
          "output_type": "execute_result",
          "data": {
            "text/plain": [
              "'garv'"
            ],
            "application/vnd.google.colaboratory.intrinsic+json": {
              "type": "string"
            }
          },
          "metadata": {},
          "execution_count": 7
        }
      ]
    },
    {
      "cell_type": "code",
      "source": [
        "# to modify the element\n",
        "a=['garv',1,2,3]\n",
        "a[0]='Garv'\n",
        "a"
      ],
      "metadata": {
        "colab": {
          "base_uri": "https://localhost:8080/"
        },
        "id": "t2m673nN0BsF",
        "outputId": "1c5afbf8-394e-4eef-bde6-4dc16cbf799d"
      },
      "execution_count": 8,
      "outputs": [
        {
          "output_type": "execute_result",
          "data": {
            "text/plain": [
              "['Garv', 1, 2, 3]"
            ]
          },
          "metadata": {},
          "execution_count": 8
        }
      ]
    },
    {
      "cell_type": "code",
      "source": [
        "#to delete the element\n",
        "a.clear()\n",
        "a"
      ],
      "metadata": {
        "colab": {
          "base_uri": "https://localhost:8080/"
        },
        "id": "cysPP0LA0YIb",
        "outputId": "37067705-2d88-4117-df57-97e909760ff9"
      },
      "execution_count": 10,
      "outputs": [
        {
          "output_type": "execute_result",
          "data": {
            "text/plain": [
              "[]"
            ]
          },
          "metadata": {},
          "execution_count": 10
        }
      ]
    },
    {
      "cell_type": "code",
      "source": [
        "#qn4-Compare and contrast tuples and lists with examples\n",
        "#ans- list is a ordered collection of data\n",
        "#can store any data\n",
        "#mutable\n",
        "a=['garv',1,2,3]\n",
        "a[2]"
      ],
      "metadata": {
        "colab": {
          "base_uri": "https://localhost:8080/"
        },
        "id": "QcXLLmU80f-v",
        "outputId": "47a24be3-a3e1-4858-d1e4-49a1a7e36d0d"
      },
      "execution_count": 11,
      "outputs": [
        {
          "output_type": "execute_result",
          "data": {
            "text/plain": [
              "2"
            ]
          },
          "metadata": {},
          "execution_count": 11
        }
      ]
    },
    {
      "cell_type": "code",
      "source": [
        "# tuple is an ordered collection of elements\n",
        "# immutable\n",
        "t=(\"garv\",1,2)\n",
        "t[1]"
      ],
      "metadata": {
        "colab": {
          "base_uri": "https://localhost:8080/"
        },
        "id": "geWqU-dh00Ju",
        "outputId": "87e70972-89f4-489c-bb8a-ed185d927ac1"
      },
      "execution_count": 12,
      "outputs": [
        {
          "output_type": "execute_result",
          "data": {
            "text/plain": [
              "1"
            ]
          },
          "metadata": {},
          "execution_count": 12
        }
      ]
    },
    {
      "cell_type": "code",
      "source": [
        "#qn5-Describe the key features of sets and provide examples of their use\n",
        "#ans 5-unordered and unique collection of elements\n",
        "# doesnt allow duplicating elements\n",
        "s={1,1,1,2,2,2,2}\n",
        "s"
      ],
      "metadata": {
        "colab": {
          "base_uri": "https://localhost:8080/"
        },
        "id": "Kvt0touG1GR5",
        "outputId": "61091d0c-2bd3-404b-a0fe-e8d44576fe06"
      },
      "execution_count": 13,
      "outputs": [
        {
          "output_type": "execute_result",
          "data": {
            "text/plain": [
              "{1, 2}"
            ]
          },
          "metadata": {},
          "execution_count": 13
        }
      ]
    },
    {
      "cell_type": "code",
      "source": [
        "s.add(100)\n",
        "s"
      ],
      "metadata": {
        "colab": {
          "base_uri": "https://localhost:8080/"
        },
        "id": "zG15DyEw1v6E",
        "outputId": "170f9348-85a0-4785-84cd-231a43cef55f"
      },
      "execution_count": 16,
      "outputs": [
        {
          "output_type": "execute_result",
          "data": {
            "text/plain": [
              "{1, 2, 100}"
            ]
          },
          "metadata": {},
          "execution_count": 16
        }
      ]
    },
    {
      "cell_type": "code",
      "source": [],
      "metadata": {
        "id": "mT-_m2hH2NI9"
      },
      "execution_count": null,
      "outputs": []
    },
    {
      "cell_type": "code",
      "source": [
        "#qn6-Discuss the use cases of tuples and sets in Python programming\n",
        "# tuple is ordered collection\n",
        "#immutable\n",
        "s=(1,2,3,3,3,3,3)\n",
        "s.count(3)\n"
      ],
      "metadata": {
        "colab": {
          "base_uri": "https://localhost:8080/"
        },
        "id": "dN_qCAcH1x4Y",
        "outputId": "74ebdd92-776a-400b-a5cb-eb09b56fbc30"
      },
      "execution_count": 21,
      "outputs": [
        {
          "output_type": "execute_result",
          "data": {
            "text/plain": [
              "5"
            ]
          },
          "metadata": {},
          "execution_count": 21
        }
      ]
    },
    {
      "cell_type": "code",
      "source": [
        "#sets is unordered collection\n",
        "s={1,2,3,4,5}\n",
        "s.pop()"
      ],
      "metadata": {
        "colab": {
          "base_uri": "https://localhost:8080/"
        },
        "id": "8cSeFjOL2W84",
        "outputId": "d6264207-4e9c-47aa-c2a8-58898a26a522"
      },
      "execution_count": 23,
      "outputs": [
        {
          "output_type": "execute_result",
          "data": {
            "text/plain": [
              "1"
            ]
          },
          "metadata": {},
          "execution_count": 23
        }
      ]
    },
    {
      "cell_type": "code",
      "source": [
        "#qn7-describe how to add, modify, and delete items in a dictionary with examples\n",
        "# to add\n",
        "d={'name':'garv','name':'deep'}\n",
        "d['adress']='delhi'\n",
        "d"
      ],
      "metadata": {
        "colab": {
          "base_uri": "https://localhost:8080/"
        },
        "id": "lA8PykUz22px",
        "outputId": "e3109db3-e875-4625-d389-925ad40366c1"
      },
      "execution_count": 30,
      "outputs": [
        {
          "output_type": "execute_result",
          "data": {
            "text/plain": [
              "{'name': 'deep', 'adress': 'delhi'}"
            ]
          },
          "metadata": {},
          "execution_count": 30
        }
      ]
    },
    {
      "cell_type": "code",
      "source": [
        "# to modify\n",
        "d['name']='garv'\n",
        "d"
      ],
      "metadata": {
        "colab": {
          "base_uri": "https://localhost:8080/"
        },
        "id": "gEZ1xZFI3iTt",
        "outputId": "8f70e001-75d6-49af-ef7b-316bd8ca17b8"
      },
      "execution_count": 33,
      "outputs": [
        {
          "output_type": "execute_result",
          "data": {
            "text/plain": [
              "{'name': 'garv', 'adress': 'delhi'}"
            ]
          },
          "metadata": {},
          "execution_count": 33
        }
      ]
    },
    {
      "cell_type": "code",
      "source": [
        "# to delete\n",
        "d.clear()\n",
        "d"
      ],
      "metadata": {
        "colab": {
          "base_uri": "https://localhost:8080/"
        },
        "id": "88000CYx4wGH",
        "outputId": "f8373a7d-fff5-4a7e-90e1-62c2bc82d091"
      },
      "execution_count": 35,
      "outputs": [
        {
          "output_type": "execute_result",
          "data": {
            "text/plain": [
              "{}"
            ]
          },
          "metadata": {},
          "execution_count": 35
        }
      ]
    },
    {
      "cell_type": "code",
      "source": [],
      "metadata": {
        "id": "zmu7KerX5F6r"
      },
      "execution_count": null,
      "outputs": []
    },
    {
      "cell_type": "code",
      "source": [
        " #qn8-Discuss the importance of dictionary keys being immutable and provide example\n",
        " #ans-if keys were mutable object,it could change\n",
        " #thats why its immutable\n",
        ""
      ],
      "metadata": {
        "colab": {
          "base_uri": "https://localhost:8080/",
          "height": 106
        },
        "id": "3qfiGXcO42po",
        "outputId": "a643214c-d5b4-480d-830c-577a9b5e10d9"
      },
      "execution_count": 40,
      "outputs": [
        {
          "output_type": "error",
          "ename": "SyntaxError",
          "evalue": "closing parenthesis ')' does not match opening parenthesis '{' (<ipython-input-40-fc7fcaaaa662>, line 4)",
          "traceback": [
            "\u001b[0;36m  File \u001b[0;32m\"<ipython-input-40-fc7fcaaaa662>\"\u001b[0;36m, line \u001b[0;32m4\u001b[0m\n\u001b[0;31m    d={'name':'garv','name':'deep',[1,2])\u001b[0m\n\u001b[0m                                        ^\u001b[0m\n\u001b[0;31mSyntaxError\u001b[0m\u001b[0;31m:\u001b[0m closing parenthesis ')' does not match opening parenthesis '{'\n"
          ]
        }
      ]
    },
    {
      "cell_type": "code",
      "source": [],
      "metadata": {
        "id": "JEO6OvR4566y"
      },
      "execution_count": null,
      "outputs": []
    }
  ]
}